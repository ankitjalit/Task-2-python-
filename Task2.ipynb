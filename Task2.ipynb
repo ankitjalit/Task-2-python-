{
 "cells": [
  {
   "cell_type": "markdown",
   "id": "3d284c62-d299-42cd-a13f-8001451abe9c",
   "metadata": {},
   "source": [
    "# Numbers\r\n",
    "There are different categories of numbers in Python. Mostly used are Integers and Floats."
   ]
  },
  {
   "cell_type": "code",
   "execution_count": 2,
   "id": "0e92d535-f713-477f-bfa7-655cee7a6bee",
   "metadata": {},
   "outputs": [],
   "source": [
    "a = 2 "
   ]
  },
  {
   "cell_type": "code",
   "execution_count": 6,
   "id": "b612a1aa-1687-48e1-9e59-d07854df3ce4",
   "metadata": {},
   "outputs": [
    {
     "name": "stdout",
     "output_type": "stream",
     "text": [
      "<class 'int'>\n"
     ]
    }
   ],
   "source": [
    "print (type(a))"
   ]
  },
  {
   "cell_type": "code",
   "execution_count": 8,
   "id": "3489da41-53ba-417f-b379-ca8aa355b33f",
   "metadata": {},
   "outputs": [],
   "source": [
    "b = 0.3"
   ]
  },
  {
   "cell_type": "code",
   "execution_count": 10,
   "id": "0185e6af-aee7-4bb2-b1d9-cb809b471f1c",
   "metadata": {},
   "outputs": [
    {
     "name": "stdout",
     "output_type": "stream",
     "text": [
      "<class 'float'>\n"
     ]
    }
   ],
   "source": [
    "print(type(b))"
   ]
  },
  {
   "cell_type": "code",
   "execution_count": 12,
   "id": "c41ef76d-5918-49a8-9eaa-ac69d92bb272",
   "metadata": {},
   "outputs": [],
   "source": [
    "c = 'hello world'"
   ]
  },
  {
   "cell_type": "code",
   "execution_count": 14,
   "id": "b078ca25-3cf4-40ce-9ded-956aa53f6883",
   "metadata": {},
   "outputs": [
    {
     "name": "stdout",
     "output_type": "stream",
     "text": [
      "<class 'str'>\n"
     ]
    }
   ],
   "source": [
    "print(type(c))"
   ]
  },
  {
   "cell_type": "markdown",
   "id": "668eb9fe-2c76-4214-b6e3-891e930db08f",
   "metadata": {},
   "source": [
    "# Strings\n",
    "Strings refers to the sequence of characters in Python. Strings are always written in quotation marks (single, double, or triple) and are Immutable. It means that the elements of string cannot be edited after definition. Different operations that can be performed on Strings are Indexing, Slicing, Concatenation, Repetition. Also, there are various in-built method in Strings such as upper(), lower(),split(),strip(),lstrip(),rstrip() and many others that can be studied. Below are various examples and explanation of operations and methods in String with comments(denoted as ‘#’ for understanding purpose)."
   ]
  },
  {
   "cell_type": "code",
   "execution_count": 17,
   "id": "dae4e5de-183d-4cc2-a361-ea09b63fc69a",
   "metadata": {},
   "outputs": [
    {
     "data": {
      "text/plain": [
       "'hello world'"
      ]
     },
     "execution_count": 17,
     "metadata": {},
     "output_type": "execute_result"
    }
   ],
   "source": [
    "#creating a string\n",
    "\"hello world\""
   ]
  },
  {
   "cell_type": "code",
   "execution_count": 19,
   "id": "3faee3b3-b57f-4684-ab72-cf33fbcf4309",
   "metadata": {},
   "outputs": [],
   "source": [
    "#pritning a string \n",
    "a = \"hello world\""
   ]
  },
  {
   "cell_type": "code",
   "execution_count": 21,
   "id": "7a36737a-061c-4519-96bb-ae9e8ea9c5fd",
   "metadata": {},
   "outputs": [
    {
     "name": "stdout",
     "output_type": "stream",
     "text": [
      "hello world\n"
     ]
    }
   ],
   "source": [
    "print(a)"
   ]
  },
  {
   "cell_type": "markdown",
   "id": "24a130ad-ac17-47ab-9622-7171523c89d7",
   "metadata": {},
   "source": [
    "# String Indexing is used to return elements of a string at a particular index. In the below example, ‘a[0]’ returns ‘H’ which is at 0'th index of string ‘a’. Whereas, String Slicing extract a range of characters by using the slice syntax. Syntax for slicing :- [start index: end index:step size]"
   ]
  },
  {
   "cell_type": "code",
   "execution_count": 26,
   "id": "cbcfdc70-6d5d-4cbb-aab1-63aec1d6ed21",
   "metadata": {},
   "outputs": [
    {
     "data": {
      "text/plain": [
       "'h'"
      ]
     },
     "execution_count": 26,
     "metadata": {},
     "output_type": "execute_result"
    }
   ],
   "source": [
    "#String Indexing\n",
    "a[0]"
   ]
  },
  {
   "cell_type": "code",
   "execution_count": 33,
   "id": "173780f3-cb95-449e-99c2-b3a23f0c9a35",
   "metadata": {},
   "outputs": [],
   "source": [
    "# String slicing \n",
    "a = \"hello world\""
   ]
  },
  {
   "cell_type": "code",
   "execution_count": 37,
   "id": "521a079c-9c42-45f4-941e-124b5e34d454",
   "metadata": {},
   "outputs": [
    {
     "name": "stdout",
     "output_type": "stream",
     "text": [
      "hello\n"
     ]
    }
   ],
   "source": [
    "print(a[0:5:1])"
   ]
  },
  {
   "cell_type": "code",
   "execution_count": 39,
   "id": "c0d0b660-5416-4eb8-b3e0-7c1a3703d6bb",
   "metadata": {},
   "outputs": [
    {
     "name": "stdout",
     "output_type": "stream",
     "text": [
      "hlw\n"
     ]
    }
   ],
   "source": [
    "print(a[0:8:3])"
   ]
  },
  {
   "cell_type": "code",
   "execution_count": 41,
   "id": "d733c47d-b140-4cfe-b4b1-fdd8635ed66a",
   "metadata": {},
   "outputs": [
    {
     "name": "stdout",
     "output_type": "stream",
     "text": [
      "hello world\n"
     ]
    }
   ],
   "source": [
    "print(a[:])"
   ]
  },
  {
   "cell_type": "code",
   "execution_count": 43,
   "id": "9834004d-4dcb-4cd3-9b7f-130609afd318",
   "metadata": {},
   "outputs": [
    {
     "name": "stdout",
     "output_type": "stream",
     "text": [
      "e\n"
     ]
    }
   ],
   "source": [
    "print(a[1])"
   ]
  },
  {
   "cell_type": "code",
   "execution_count": 49,
   "id": "02db9920-7243-468f-90da-d84a51c507a0",
   "metadata": {},
   "outputs": [
    {
     "data": {
      "text/plain": [
       "'hello worldhow are you?'"
      ]
     },
     "execution_count": 49,
     "metadata": {},
     "output_type": "execute_result"
    }
   ],
   "source": [
    "#string concatenation ('+')\n",
    "a= 'hello world'\n",
    "a + 'how are you?'"
   ]
  },
  {
   "cell_type": "code",
   "execution_count": 1,
   "id": "249ea0e7-2440-40c9-9b72-18882b72f642",
   "metadata": {},
   "outputs": [
    {
     "data": {
      "text/plain": [
       "'hihihihihi'"
      ]
     },
     "execution_count": 1,
     "metadata": {},
     "output_type": "execute_result"
    }
   ],
   "source": [
    "#string repetition\n",
    "b ='hi'\n",
    "b*5  #reapting string a 5 times"
   ]
  },
  {
   "cell_type": "markdown",
   "id": "abace835-956d-4ccb-99e5-6b34dcca7361",
   "metadata": {},
   "source": [
    "# Lists\n",
    "List is a collection of items containing data of different types. The indexing of List starts with zero. If a length of a list is three, indexes are 0,1,2. I have shared multiple examples of different List operations with output and comments for better understanding."
   ]
  },
  {
   "cell_type": "code",
   "execution_count": 6,
   "id": "673e9058-36a9-4ba6-b85d-63e40c50a51e",
   "metadata": {},
   "outputs": [],
   "source": [
    "# list ceration\n",
    "lists = [1,2,'world']"
   ]
  },
  {
   "cell_type": "code",
   "execution_count": 8,
   "id": "f42aa91e-3cd0-4ae8-9a36-a91ae6826926",
   "metadata": {},
   "outputs": [
    {
     "data": {
      "text/plain": [
       "[1, 2, 'world']"
      ]
     },
     "execution_count": 8,
     "metadata": {},
     "output_type": "execute_result"
    }
   ],
   "source": [
    "lists"
   ]
  },
  {
   "cell_type": "code",
   "execution_count": 10,
   "id": "ff5ce24e-c8a9-4878-aa36-963bff7a833f",
   "metadata": {},
   "outputs": [
    {
     "data": {
      "text/plain": [
       "3"
      ]
     },
     "execution_count": 10,
     "metadata": {},
     "output_type": "execute_result"
    }
   ],
   "source": [
    "# lenth of list\n",
    "len(lists)\n"
   ]
  },
  {
   "cell_type": "code",
   "execution_count": 12,
   "id": "10eaf1c6-6436-4571-b91d-42bf74446d44",
   "metadata": {},
   "outputs": [
    {
     "name": "stdout",
     "output_type": "stream",
     "text": [
      "list[1]\n"
     ]
    }
   ],
   "source": [
    "print(list[1])"
   ]
  },
  {
   "cell_type": "code",
   "execution_count": 16,
   "id": "20b44979-1259-4f2c-96b5-b0e5fa44e16d",
   "metadata": {},
   "outputs": [
    {
     "name": "stdout",
     "output_type": "stream",
     "text": [
      "list[slice(0, None, None)]\n"
     ]
    }
   ],
   "source": [
    "print(list[0:]);"
   ]
  },
  {
   "cell_type": "code",
   "execution_count": 18,
   "id": "862bf2d5-962e-4190-bdae-8553c82d45ce",
   "metadata": {},
   "outputs": [
    {
     "name": "stdout",
     "output_type": "stream",
     "text": [
      "list[slice(0, 2, None)]\n"
     ]
    }
   ],
   "source": [
    "print(list[0:2]);"
   ]
  },
  {
   "cell_type": "code",
   "execution_count": 20,
   "id": "87287592-c8f7-495a-96c4-7d9e323879db",
   "metadata": {},
   "outputs": [
    {
     "name": "stdout",
     "output_type": "stream",
     "text": [
      "<class 'list'>\n"
     ]
    }
   ],
   "source": [
    "print(list);"
   ]
  },
  {
   "cell_type": "markdown",
   "id": "d2d2613d-3400-4cdc-a326-85c8eed73afa",
   "metadata": {},
   "source": [
    "# Further, an item can be added to the list with the method append()."
   ]
  },
  {
   "cell_type": "code",
   "execution_count": 29,
   "id": "b22ca831-d99f-42fe-b306-3ed416cef2a6",
   "metadata": {},
   "outputs": [],
   "source": [
    "l = [1,2,3]\n",
    "l.append(4)"
   ]
  },
  {
   "cell_type": "code",
   "execution_count": 31,
   "id": "0de217dd-faf3-40a1-8fef-d17ee4c62d94",
   "metadata": {},
   "outputs": [
    {
     "name": "stdout",
     "output_type": "stream",
     "text": [
      "1\n"
     ]
    }
   ],
   "source": [
    "print(1)"
   ]
  },
  {
   "cell_type": "markdown",
   "id": "4437d039-e07c-420e-95e9-6c18663c7724",
   "metadata": {},
   "source": [
    "# Booleans\r\n",
    "These are operators with either True or False value. Booleans are of ‘bool’ type.\r\n",
    "\r\n"
   ]
  },
  {
   "cell_type": "code",
   "execution_count": 8,
   "id": "d97ef9aa-bc46-4ae0-864a-651f83c2baad",
   "metadata": {},
   "outputs": [
    {
     "name": "stdout",
     "output_type": "stream",
     "text": [
      "<class 'bool'>\n",
      "<class 'bool'>\n"
     ]
    }
   ],
   "source": [
    "print(type(True))\n",
    "print(type(False))"
   ]
  },
  {
   "cell_type": "code",
   "execution_count": 10,
   "id": "058373bb-6b67-474c-b9c2-755a7f95ab6c",
   "metadata": {},
   "outputs": [
    {
     "data": {
      "text/plain": [
       "False"
      ]
     },
     "execution_count": 10,
     "metadata": {},
     "output_type": "execute_result"
    }
   ],
   "source": [
    "-9>2"
   ]
  },
  {
   "cell_type": "code",
   "execution_count": 12,
   "id": "79e5532d-71f7-4515-aecf-c5feeed10f67",
   "metadata": {},
   "outputs": [
    {
     "data": {
      "text/plain": [
       "True"
      ]
     },
     "execution_count": 12,
     "metadata": {},
     "output_type": "execute_result"
    }
   ],
   "source": [
    "3==3 # '==' is qual operator to check qulilty "
   ]
  },
  {
   "cell_type": "markdown",
   "id": "3e0fe4ac-bca7-491b-8fb2-90897ddf7501",
   "metadata": {},
   "source": [
    "# Tuples\r\n",
    "Tuples are immutable data types with a collection of different types of data. It does not support object assignment. They are used for passing objects without getting changed for data integrity. It is written with a small bracket. Let us see an example for clarity.\r\n",
    "\r\n",
    "Note that Tuples operations are similar to the Lists. Except, Tuples are not mutable and defined with small brackets.\r\n",
    "\r\n"
   ]
  },
  {
   "cell_type": "code",
   "execution_count": 15,
   "id": "b5ce25b2-e508-417e-8233-97a5d83f3571",
   "metadata": {},
   "outputs": [],
   "source": [
    "t = (\"hi\", 1, 2,\"world\")"
   ]
  },
  {
   "cell_type": "code",
   "execution_count": 17,
   "id": "08b165b9-6d15-40ed-a609-b97626aa2461",
   "metadata": {},
   "outputs": [
    {
     "name": "stdout",
     "output_type": "stream",
     "text": [
      "(2, 'world')\n"
     ]
    }
   ],
   "source": [
    "print (t[2:]);  # print 2 element till last element of a tuple "
   ]
  },
  {
   "cell_type": "code",
   "execution_count": 19,
   "id": "dbed3325-b2a9-4d78-9e0f-314ec34cc4d2",
   "metadata": {},
   "outputs": [
    {
     "name": "stdout",
     "output_type": "stream",
     "text": [
      "(1, 2)\n"
     ]
    }
   ],
   "source": [
    "print(t[1:3]);  # print element staring from the 1st index up to 2nd index of the tuple "
   ]
  },
  {
   "cell_type": "code",
   "execution_count": 21,
   "id": "704ed59f-7920-49e5-980b-6030dff5794a",
   "metadata": {},
   "outputs": [
    {
     "name": "stdout",
     "output_type": "stream",
     "text": [
      "('hi', 1, 2, 'world')\n"
     ]
    }
   ],
   "source": [
    "print (t);  # prints tuple "
   ]
  },
  {
   "cell_type": "code",
   "execution_count": 25,
   "id": "a2395fb0-1c8f-4f08-8b91-087aa0d7922d",
   "metadata": {},
   "outputs": [
    {
     "ename": "TypeError",
     "evalue": "'tuple' object does not support item assignment",
     "output_type": "error",
     "traceback": [
      "\u001b[1;31m---------------------------------------------------------------------------\u001b[0m",
      "\u001b[1;31mTypeError\u001b[0m                                 Traceback (most recent call last)",
      "Cell \u001b[1;32mIn[25], line 1\u001b[0m\n\u001b[1;32m----> 1\u001b[0m t[\u001b[38;5;241m3\u001b[39m] \u001b[38;5;241m=\u001b[39m \u001b[38;5;124m\"\u001b[39m\u001b[38;5;124mhi\u001b[39m\u001b[38;5;124m\"\u001b[39m\n",
      "\u001b[1;31mTypeError\u001b[0m: 'tuple' object does not support item assignment"
     ]
    }
   ],
   "source": [
    " t[3] = \"hi\";  # display error message as tuple does not support assignment "
   ]
  },
  {
   "cell_type": "markdown",
   "id": "d4ca65cc-8474-4346-88fa-326296d3a17d",
   "metadata": {},
   "source": [
    "# Dictionaries\r\n",
    "Dictionaries in Python are key-value pairs collection. Key and Value can be of any data type. There is a mapping of the key with the corresponding value. Keys are used to look-up for the values. Dictionaries are written within curly ‘{}’ braces.\r\n",
    "\r\n",
    "In the second example dictionary ‘newd’ is created and key ‘India’ and ‘Indonesia’ are added. Hence new elements can be added in the dictionary.\r\n",
    "\r\n"
   ]
  },
  {
   "cell_type": "code",
   "execution_count": 32,
   "id": "a9ed6bd4-05e9-43be-be5f-8852316d535a",
   "metadata": {},
   "outputs": [],
   "source": [
    "d={1:123,3:[2,1,0],2:(1,4,'hi')}"
   ]
  },
  {
   "cell_type": "code",
   "execution_count": 36,
   "id": "066ce63c-b925-4e27-9f85-a3f72b91553a",
   "metadata": {},
   "outputs": [
    {
     "name": "stdout",
     "output_type": "stream",
     "text": [
      "(1, 4, 'hi')\n"
     ]
    }
   ],
   "source": [
    "print (d[2]) #key \"2\" has value of tuple data type with value \"(1,4,'hi')\""
   ]
  },
  {
   "cell_type": "code",
   "execution_count": 40,
   "id": "a4090438-8ba0-45fe-956b-296117abffce",
   "metadata": {},
   "outputs": [
    {
     "name": "stdout",
     "output_type": "stream",
     "text": [
      "[3]\n"
     ]
    }
   ],
   "source": [
    "print ([3]) #key \"2\" has value of list data type with value \"[2,1,0]\""
   ]
  },
  {
   "cell_type": "markdown",
   "id": "c281b5fb-6d42-4a5b-a95b-cb6f2fa0c93e",
   "metadata": {},
   "source": [
    "# Slicing\r",
    "*\n",
    "You can return a range of characters by using the slice syntax\n",
    "*\n",
    "\r\n",
    "Specify the start index and the end index, separated by a colon, to return a part of the string."
   ]
  },
  {
   "cell_type": "code",
   "execution_count": 48,
   "id": "999d36f1-204c-45e5-b334-d8d64ff0b2fe",
   "metadata": {},
   "outputs": [],
   "source": [
    "b = \"hello, world!\""
   ]
  },
  {
   "cell_type": "code",
   "execution_count": 50,
   "id": "62f05e34-3613-49c4-9bcc-9f5ef8262659",
   "metadata": {},
   "outputs": [
    {
     "name": "stdout",
     "output_type": "stream",
     "text": [
      "llo\n"
     ]
    }
   ],
   "source": [
    "print (b[2:5])\n"
   ]
  },
  {
   "cell_type": "markdown",
   "id": "fe00394b-3784-48e1-abed-d36de39e6e0f",
   "metadata": {},
   "source": [
    "# Slice From the Start\n",
    "By leaving out the start index, the range will start at the first character:\n",
    "\n",
    "Example\n",
    "Get the characters from the start to position 5 (not included):"
   ]
  },
  {
   "cell_type": "code",
   "execution_count": 53,
   "id": "299a4661-adc9-498f-a405-4e07603f094a",
   "metadata": {},
   "outputs": [],
   "source": [
    "b = \"Hello, World!\""
   ]
  },
  {
   "cell_type": "code",
   "execution_count": 55,
   "id": "825fb472-dd86-4c59-9953-b62c8cddf59d",
   "metadata": {},
   "outputs": [
    {
     "name": "stdout",
     "output_type": "stream",
     "text": [
      "Hello\n"
     ]
    }
   ],
   "source": [
    "print(b[:5])"
   ]
  },
  {
   "cell_type": "markdown",
   "id": "6cfb80d9-8683-4366-9360-7c2500ac8c1b",
   "metadata": {},
   "source": [
    "# Slice To the End\r\n",
    "By leaving out the end index, the range will go to the end:\r\n",
    "\r\n",
    "Example\r\n",
    "Get the characters from position 2, and all the way to the end:\r\n",
    "\r\n"
   ]
  },
  {
   "cell_type": "code",
   "execution_count": 58,
   "id": "a6642acb-41fb-4864-89e9-bde88a481af9",
   "metadata": {},
   "outputs": [],
   "source": [
    "b = \"Hello, World!\""
   ]
  },
  {
   "cell_type": "code",
   "execution_count": 60,
   "id": "66923cb9-ba65-4f3a-9c78-2316b46aa40d",
   "metadata": {},
   "outputs": [
    {
     "name": "stdout",
     "output_type": "stream",
     "text": [
      "llo, World!\n"
     ]
    }
   ],
   "source": [
    "print(b[2:])"
   ]
  },
  {
   "cell_type": "markdown",
   "id": "298153ba-b6d6-4ff4-a685-ced4dc9427fc",
   "metadata": {},
   "source": [
    "# Negative Indexing\r\n",
    "Use negative indexes to start the slice from the end of the string:"
   ]
  },
  {
   "cell_type": "markdown",
   "id": "82299982-1496-409b-8e9d-3660430f8962",
   "metadata": {},
   "source": [
    "# Example\n",
    "Get the characters:\n",
    "\n",
    "From: \"o\" in \"World!\" (position -5)\n",
    "\n",
    "To, but not included: \"d\" in \"World!\" (position -2):"
   ]
  },
  {
   "cell_type": "code",
   "execution_count": 64,
   "id": "76196b5c-031e-44a5-8df5-f1ffdc811e26",
   "metadata": {},
   "outputs": [],
   "source": [
    "b = \"Hello, World!\""
   ]
  },
  {
   "cell_type": "code",
   "execution_count": 66,
   "id": "210933fb-50a8-44e6-a810-c7bcd684c254",
   "metadata": {},
   "outputs": [
    {
     "name": "stdout",
     "output_type": "stream",
     "text": [
      "orl\n"
     ]
    }
   ],
   "source": [
    "print(b[-5:-2])"
   ]
  },
  {
   "cell_type": "code",
   "execution_count": null,
   "id": "103a67cd-8217-4a56-9804-026d0b3c98c5",
   "metadata": {},
   "outputs": [],
   "source": []
  }
 ],
 "metadata": {
  "kernelspec": {
   "display_name": "Python 3 (ipykernel)",
   "language": "python",
   "name": "python3"
  },
  "language_info": {
   "codemirror_mode": {
    "name": "ipython",
    "version": 3
   },
   "file_extension": ".py",
   "mimetype": "text/x-python",
   "name": "python",
   "nbconvert_exporter": "python",
   "pygments_lexer": "ipython3",
   "version": "3.12.4"
  }
 },
 "nbformat": 4,
 "nbformat_minor": 5
}
